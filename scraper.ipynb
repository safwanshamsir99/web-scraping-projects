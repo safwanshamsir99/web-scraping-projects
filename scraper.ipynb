{
 "cells": [
  {
   "cell_type": "code",
   "execution_count": 1,
   "metadata": {},
   "outputs": [],
   "source": [
    "import selenium\n",
    "from selenium import webdriver\n",
    "import time\n",
    "from bs4 import BeautifulSoup\n",
    "import requests\n",
    "from selenium.webdriver.chrome.service import Service\n",
    "from selenium.webdriver.common.by import By\n",
    "from selenium.webdriver.support.ui import WebDriverWait\n",
    "from selenium.webdriver.support import expected_conditions as EC\n",
    "import time\n",
    "import undetected_chromedriver as uc\n",
    "import pandas as pd"
   ]
  },
  {
   "cell_type": "code",
   "execution_count": 8,
   "metadata": {},
   "outputs": [],
   "source": [
    "# Function to fetch product information # add rating, sold, rating, and place\n",
    "def get_products(card):\n",
    "    pImg = card.find('img','_7YC893 KUUypF')\n",
    "    try:\n",
    "        product_image = pImg['src']\n",
    "    except TypeError:\n",
    "        product_image = ''\n",
    "\n",
    "    try:\n",
    "        product_name = card.find('div','ie3A+n bM+7UW Cve6sh').text.strip()\n",
    "        product_name = str(product_name.encode('ascii','ignore'),'utf-8')\n",
    "        product_price = card.find('span','ZEgDH9').text.strip()\n",
    "        anchor_tag = card.a.get('href')\n",
    "        product_link = 'https://shopee.com.my/' + anchor_tag\n",
    "    except AttributeError:\n",
    "        product_name = ''\n",
    "        product_price = ''\n",
    "        product_link = ''\n",
    "\n",
    "    product_info = (product_image, product_name, product_price, product_link)\n",
    "\n",
    "    return product_info\n",
    "\n",
    "# Function to enter phonenum/email and password\n",
    "def get_credentials():\n",
    "    user_id = input(\"Phone Number / Username / Email:\")\n",
    "    pw = input(\"Password:\")\n",
    "    return user_id, pw\n",
    "\n",
    "def main(product):\n",
    "    records = []\n",
    "    # user_id, pw = get_credentials()\n",
    "\n",
    "    chrome_path = r\"C:\\Users\\Acer\\OneDrive\\Documents\\Work\\INVOKE\\shopee-web-scrape\\chromedriver.exe\"\n",
    "    opt = webdriver.ChromeOptions()\n",
    "    opt.add_argument(\"user-agent=Mozilla/5.0 (Windows NT 10.0; Win64; x64) AppleWebKit/537.36 (KHTML, like Gecko) Chrome/118.0.5993.71 Safari/537.36\")\n",
    "    \n",
    "    service = Service(executable_path=chrome_path)\n",
    "    driver = webdriver.Chrome(service=service,options=opt)\n",
    "    url = 'https://shopee.com.my/'\n",
    "    driver.get(url)\n",
    "    driver.maximize_window()\n",
    "    time.sleep(3.5)\n",
    "    btn = driver.find_element(By.XPATH,'//*[@id=\"modal\"]/div[1]/div[1]/div/div[3]/div[1]/button')\n",
    "    btn.click()\n",
    "    time.sleep(5)\n",
    "    \n",
    "    \n",
    "    url = driver.current_url\n",
    "    if 'https://shopee.com.my/buyer/login?' in url:\n",
    "        phonenum = driver.find_element(By.XPATH,'//*[@id=\"main\"]/div/div[2]/div/div/div/div[2]/form/div/div[2]/div[2]/div[1]/input')\n",
    "        phonenum.send_keys(\"safwanshamsir99@gmail.com\")\n",
    "        password = driver.find_element(By.XPATH,'//*[@id=\"main\"]/div/div[2]/div/div/div/div[2]/form/div/div[2]/div[3]/div[1]/input')\n",
    "        password.send_keys(\"54FW4N5h4m5ir\")\n",
    "        login = driver.find_element(By.XPATH,'//*[@id=\"main\"]/div/div[2]/div/div/div/div[2]/form/div/div[2]/button')\n",
    "        login.click()\n",
    "        time.sleep(10)\n",
    "    \n",
    "    # Define an initial value\n",
    "    temp_height=0\n",
    "\n",
    "    while True:\n",
    "        #Looping down the scroll bar\n",
    "        driver.execute_script(\"window.scrollBy(0,1000)\")\n",
    "        #sleep and let the scroll bar react\n",
    "        time.sleep(5)\n",
    "        #Get the distance of the current scroll bar from the top\n",
    "        check_height = driver.execute_script(\"return document.documentElement.scrollTop || window.pageYOffset || document.body.scrollTop;\")\n",
    "        #If the two are equal to the end\n",
    "        if check_height==temp_height:\n",
    "            break\n",
    "        temp_height=check_height\n",
    "    time.sleep(10)\n",
    "\n",
    "    soup = BeautifulSoup(driver.page_source, 'html.parser')\n",
    "    product_cards = soup.find_all('li','col-xs-2-4')\n",
    "\n",
    "    for card in product_cards:\n",
    "        product_details = get_products(card)\n",
    "        records.append(product_details)\n",
    "\n",
    "    # Save into CSV file\n",
    "\n",
    "    col = ['Product_Image','Product_Name','Product_Price','Product_Link']\n",
    "    shopee_data = pd.DataFrame(records,columns=col,index=False)\n",
    "    shopee_data.to_csv(r'c:\\Users\\Acer\\Downloads\\shopee_data.csv')\n",
    "\n"
   ]
  },
  {
   "cell_type": "code",
   "execution_count": null,
   "metadata": {},
   "outputs": [],
   "source": [
    "product = input('Enter product that you are looking for: ')\n",
    "main(product)"
   ]
  },
  {
   "cell_type": "code",
   "execution_count": null,
   "metadata": {},
   "outputs": [],
   "source": [
    "headers = {'User-Agent': 'Mozilla/5.0 (Windows NT 10.0; Win64; x64) AppleWebKit/537.36 \\\n",
    "            (KHTML, like Gecko) Chrome/118.0.5993.71 Safari/537.36'}\n",
    "\n",
    "chrome_path = r\"C:\\Users\\Acer\\OneDrive\\Documents\\Work\\INVOKE\\shopee-web-scrape\\chromedriver.exe\"\n",
    "service = Service(executable_path=chrome_path)\n",
    "\n",
    "driver = webdriver.Chrome(service=service)\n",
    "url = 'https://shopee.com.my/search?keyword=keychron'\n",
    "driver.get(url)\n",
    "time.sleep(5)\n",
    "btn = driver.find_element(By.XPATH,'//*[@id=\"modal\"]/div[1]/div[1]/div/div[3]/div[1]/button')\n",
    "btn.click()\n",
    "time.sleep(2)\n",
    "driver.maximize_window()\n",
    "\n",
    "url = driver.current_url\n",
    "if 'https://shopee.com.my/buyer/login?' in url:\n",
    "    phonenum = driver.find_element(By.XPATH,'//*[@id=\"main\"]/div/div[2]/div/div/div/div[2]/form/div/div[2]/div[2]/div[1]/input')\n",
    "    phonenum.send_keys(\"safwanshamsir99@gmail.com\")\n",
    "    password = driver.find_element(By.XPATH,'//*[@id=\"main\"]/div/div[2]/div/div/div/div[2]/form/div/div[2]/div[3]/div[1]/input')\n",
    "    password.send_keys(\"54FW4N5h4m5ir\")\n",
    "    login = driver.find_element(By.XPATH,'//*[@id=\"main\"]/div/div[2]/div/div/div/div[2]/form/div/div[2]/button')\n",
    "    login.click()\n",
    "    time.sleep(2)"
   ]
  },
  {
   "cell_type": "code",
   "execution_count": 52,
   "metadata": {},
   "outputs": [
    {
     "name": "stdout",
     "output_type": "stream",
     "text": [
      "60\n"
     ]
    }
   ],
   "source": [
    "product_cards = driver.find_elements(By.CLASS_NAME, 'col-xs-2-4')\n",
    "time.sleep(5)\n",
    "print(len(product_cards))"
   ]
  },
  {
   "cell_type": "code",
   "execution_count": 39,
   "metadata": {},
   "outputs": [],
   "source": [
    "cards = product_cards[0]"
   ]
  },
  {
   "cell_type": "code",
   "execution_count": 44,
   "metadata": {},
   "outputs": [
    {
     "name": "stdout",
     "output_type": "stream",
     "text": [
      "https://down-my.img.susercontent.com/file/my-11134207-7r991-lmeiakp1aoyb4a_tn\n"
     ]
    }
   ],
   "source": [
    "product_image = cards.find_elements(By.TAG_NAME, 'img')\n",
    "productImg = product_image[0].get_attribute('src')\n",
    "print(productImg)"
   ]
  },
  {
   "cell_type": "code",
   "execution_count": 53,
   "metadata": {},
   "outputs": [],
   "source": [
    "# Using bs4\n",
    "soup = BeautifulSoup(driver.page_source, 'html.parser')"
   ]
  },
  {
   "cell_type": "code",
   "execution_count": 55,
   "metadata": {},
   "outputs": [
    {
     "name": "stdout",
     "output_type": "stream",
     "text": [
      "60\n"
     ]
    }
   ],
   "source": [
    "product_cards = soup.find_all('li','col-xs-2-4')\n",
    "print(len(product_cards))"
   ]
  },
  {
   "cell_type": "code",
   "execution_count": 57,
   "metadata": {},
   "outputs": [],
   "source": [
    "card = product_cards[0]"
   ]
  },
  {
   "cell_type": "code",
   "execution_count": 59,
   "metadata": {},
   "outputs": [
    {
     "name": "stdout",
     "output_type": "stream",
     "text": [
      "https://down-my.img.susercontent.com/file/my-11134207-7r991-lmeiakp1aoyb4a_tn\n"
     ]
    }
   ],
   "source": [
    "pImg = card.find('img','_7DTxhh tWoeMk')\n",
    "product_image = pImg['src']\n",
    "print(product_image)"
   ]
  },
  {
   "cell_type": "code",
   "execution_count": 60,
   "metadata": {},
   "outputs": [
    {
     "name": "stdout",
     "output_type": "stream",
     "text": [
      "[READY STOCK] Keychron K2 Pro Keyboard Hot-Swap Custom RGB QMK VIA South Facing Screw In Stabilizers Customisable Driver\n"
     ]
    }
   ],
   "source": [
    "product_name = card.find('div','ie3A+n bM+7UW Cve6sh').text.strip()\n",
    "print(product_name)"
   ]
  },
  {
   "cell_type": "code",
   "execution_count": 62,
   "metadata": {},
   "outputs": [
    {
     "name": "stdout",
     "output_type": "stream",
     "text": [
      "459.00\n"
     ]
    }
   ],
   "source": [
    "product_price = card.find('span','ZEgDH9').text.strip()\n",
    "print(product_price)"
   ]
  },
  {
   "cell_type": "code",
   "execution_count": 63,
   "metadata": {},
   "outputs": [
    {
     "name": "stdout",
     "output_type": "stream",
     "text": [
      "https://shopee.com.my//-READY-STOCK-Keychron-K2-Pro-Keyboard-Hot-Swap-Custom-RGB-QMK-VIA-South-Facing-Screw-In-Stabilizers-Customisable-Driver-i.72068395.23682169637?sp_atk=6bd87824-4b6f-47be-9ffa-4c4fa4fee0c1&xptdk=6bd87824-4b6f-47be-9ffa-4c4fa4fee0c1\n"
     ]
    }
   ],
   "source": [
    "anchor_tag = card.a.get('href')\n",
    "product_link = 'https://shopee.com.my/' + anchor_tag\n",
    "print(product_link)"
   ]
  },
  {
   "cell_type": "code",
   "execution_count": 3,
   "metadata": {},
   "outputs": [
    {
     "data": {
      "text/plain": [
       "'https://shopee.com.my/search?keyword=jeans'"
      ]
     },
     "execution_count": 3,
     "metadata": {},
     "output_type": "execute_result"
    }
   ],
   "source": [
    "url = get_url('jeans')\n",
    "url"
   ]
  },
  {
   "cell_type": "code",
   "execution_count": 4,
   "metadata": {},
   "outputs": [
    {
     "data": {
      "text/plain": [
       "<Response [200]>"
      ]
     },
     "execution_count": 4,
     "metadata": {},
     "output_type": "execute_result"
    }
   ],
   "source": [
    "response = requests.get(url, headers=headers)\n",
    "response"
   ]
  },
  {
   "cell_type": "code",
   "execution_count": 6,
   "metadata": {},
   "outputs": [
    {
     "name": "stdout",
     "output_type": "stream",
     "text": [
      "0\n"
     ]
    }
   ],
   "source": [
    "cards = soup.find_all('div', 'col-xs-2-4 shopee-search-item-result__item')\n",
    "print(len(cards))"
   ]
  }
 ],
 "metadata": {
  "kernelspec": {
   "display_name": "myvenv",
   "language": "python",
   "name": "python3"
  },
  "language_info": {
   "codemirror_mode": {
    "name": "ipython",
    "version": 3
   },
   "file_extension": ".py",
   "mimetype": "text/x-python",
   "name": "python",
   "nbconvert_exporter": "python",
   "pygments_lexer": "ipython3",
   "version": "3.9.13"
  }
 },
 "nbformat": 4,
 "nbformat_minor": 2
}
