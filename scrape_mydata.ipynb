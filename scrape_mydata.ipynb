{
 "cells": [
  {
   "cell_type": "code",
   "execution_count": 1,
   "metadata": {},
   "outputs": [],
   "source": [
    "import selenium\n",
    "from selenium import webdriver\n",
    "import time\n",
    "from bs4 import BeautifulSoup\n",
    "from selenium.webdriver.chrome.service import Service\n",
    "from selenium.webdriver.common.by import By\n",
    "from selenium.webdriver.support.ui import WebDriverWait\n",
    "import pandas as pd\n",
    "from selenium.webdriver.support import expected_conditions as EC\n",
    "from selenium.webdriver.common.keys import Keys\n",
    "import random\n",
    "from fake_useragent import UserAgent"
   ]
  },
  {
   "cell_type": "markdown",
   "metadata": {},
   "source": [
    "# Read company list from .csv file"
   ]
  },
  {
   "cell_type": "code",
   "execution_count": 2,
   "metadata": {},
   "outputs": [
    {
     "data": {
      "text/html": [
       "<div>\n",
       "<style scoped>\n",
       "    .dataframe tbody tr th:only-of-type {\n",
       "        vertical-align: middle;\n",
       "    }\n",
       "\n",
       "    .dataframe tbody tr th {\n",
       "        vertical-align: top;\n",
       "    }\n",
       "\n",
       "    .dataframe thead th {\n",
       "        text-align: right;\n",
       "    }\n",
       "</style>\n",
       "<table border=\"1\" class=\"dataframe\">\n",
       "  <thead>\n",
       "    <tr style=\"text-align: right;\">\n",
       "      <th></th>\n",
       "      <th>Company Name</th>\n",
       "    </tr>\n",
       "  </thead>\n",
       "  <tbody>\n",
       "    <tr>\n",
       "      <th>0</th>\n",
       "      <td>A. Menarini</td>\n",
       "    </tr>\n",
       "    <tr>\n",
       "      <th>1</th>\n",
       "      <td>A.N.B.</td>\n",
       "    </tr>\n",
       "    <tr>\n",
       "      <th>2</th>\n",
       "      <td>AB-Biotics</td>\n",
       "    </tr>\n",
       "    <tr>\n",
       "      <th>3</th>\n",
       "      <td>Abbott</td>\n",
       "    </tr>\n",
       "    <tr>\n",
       "      <th>4</th>\n",
       "      <td>Abbvie</td>\n",
       "    </tr>\n",
       "    <tr>\n",
       "      <th>...</th>\n",
       "      <td>...</td>\n",
       "    </tr>\n",
       "    <tr>\n",
       "      <th>256</th>\n",
       "      <td>XL Lab</td>\n",
       "    </tr>\n",
       "    <tr>\n",
       "      <th>257</th>\n",
       "      <td>Y.S.P. Industries</td>\n",
       "    </tr>\n",
       "    <tr>\n",
       "      <th>258</th>\n",
       "      <td>Yuyu</td>\n",
       "    </tr>\n",
       "    <tr>\n",
       "      <th>259</th>\n",
       "      <td>Zambon</td>\n",
       "    </tr>\n",
       "    <tr>\n",
       "      <th>260</th>\n",
       "      <td>Zenta Healthcare</td>\n",
       "    </tr>\n",
       "  </tbody>\n",
       "</table>\n",
       "<p>261 rows × 1 columns</p>\n",
       "</div>"
      ],
      "text/plain": [
       "          Company Name\n",
       "0          A. Menarini\n",
       "1               A.N.B.\n",
       "2           AB-Biotics\n",
       "3               Abbott\n",
       "4               Abbvie\n",
       "..                 ...\n",
       "256             XL Lab\n",
       "257  Y.S.P. Industries\n",
       "258               Yuyu\n",
       "259             Zambon\n",
       "260   Zenta Healthcare\n",
       "\n",
       "[261 rows x 1 columns]"
      ]
     },
     "execution_count": 2,
     "metadata": {},
     "output_type": "execute_result"
    }
   ],
   "source": [
    "df = pd.read_excel('C:/Users/Acer/Downloads/mims_comp_list.xlsx')\n",
    "df"
   ]
  },
  {
   "cell_type": "code",
   "execution_count": 3,
   "metadata": {},
   "outputs": [
    {
     "data": {
      "text/plain": [
       "['A. Menarini',\n",
       " 'A.N.B.',\n",
       " 'AB-Biotics',\n",
       " 'Abbott',\n",
       " 'Abbvie',\n",
       " 'Abio',\n",
       " 'Advance Pharma',\n",
       " 'Aeva',\n",
       " 'AFT Pharma',\n",
       " 'AiPharma Healthcare',\n",
       " 'AJ Research & Pharma',\n",
       " 'Alcon',\n",
       " 'Alembic Pharma',\n",
       " 'AlfaSigma',\n",
       " 'Alliance Pharma',\n",
       " 'Amgen',\n",
       " 'Anfarm Hellas',\n",
       " 'Antah Pharma',\n",
       " 'Apex',\n",
       " 'Apex Lab',\n",
       " 'AQurate Ingredients',\n",
       " 'Aspen',\n",
       " 'Astellas Pharma',\n",
       " 'AstraZeneca',\n",
       " 'Atnahs Pharma',\n",
       " 'Aurobindo Pharma',\n",
       " 'Averroes Pharma',\n",
       " 'Avex',\n",
       " 'Avo',\n",
       " 'Baxter',\n",
       " 'Bayer',\n",
       " 'B-Crobes',\n",
       " 'Beiersdorf',\n",
       " 'Bernofarm',\n",
       " 'Beximco',\n",
       " 'Bharat Serums & Vaccines',\n",
       " 'Bio Products Lab',\n",
       " 'BioClin',\n",
       " 'Biocon',\n",
       " 'Biolab',\n",
       " 'Biological E Limited',\n",
       " 'Bionutra',\n",
       " 'Bio-Pharmaceuticals',\n",
       " 'Bioplax Italia Srl',\n",
       " 'Biotropics',\n",
       " 'Blackmores',\n",
       " 'BLES Biochemicals',\n",
       " 'Boehringer Ingelheim',\n",
       " 'Botrem Healthcare',\n",
       " 'BREGO Life Sciences']"
      ]
     },
     "execution_count": 3,
     "metadata": {},
     "output_type": "execute_result"
    }
   ],
   "source": [
    "comp_list = list(df['Company Name'])\n",
    "comp_list[:50]"
   ]
  },
  {
   "cell_type": "markdown",
   "metadata": {},
   "source": [
    "# Selenium"
   ]
  },
  {
   "cell_type": "code",
   "execution_count": 4,
   "metadata": {},
   "outputs": [],
   "source": [
    "def apply_random_wait(count):\n",
    "    \"\"\"\n",
    "    Apply some random wait time \n",
    "    \"\"\"\n",
    "    if count % 100 == 0 and count != 0:\n",
    "        time.sleep(random.randint(60, 120))\n",
    "    elif count % 10 == 0 and count != 0:\n",
    "        time.sleep(random.randint(15, 20))\n",
    "    else:\n",
    "        time.sleep(random.randint(7, 15))"
   ]
  },
  {
   "cell_type": "code",
   "execution_count": 7,
   "metadata": {},
   "outputs": [],
   "source": [
    "chrome_path = r\"C:\\Users\\Acer\\OneDrive\\Documents\\Work\\INVOKE\\web-scraping\\chromedriver.exe\"\n",
    "opt = webdriver.ChromeOptions()\n",
    "ua = UserAgent()\n",
    "user_agent = ua.random\n",
    "opt.add_argument(f'--user-agent={user_agent}')\n",
    "service = Service(executable_path=chrome_path)\n",
    "driver = webdriver.Chrome(service=service,options=opt)\n",
    "base_url = 'https://www.mydata-ssm.com.my/login'\n",
    "driver.get(base_url)\n",
    "wait = WebDriverWait(driver, 30)\n",
    "driver.maximize_window()\n",
    "username = driver.find_element(By.XPATH,'//*[@id=\"mat-input-0\"]')\n",
    "username.send_keys(\"safwansar\")\n",
    "password = driver.find_element(By.XPATH,'//*[@id=\"mat-input-1\"]')\n",
    "password.send_keys(\"SAFWANshamsir\")\n",
    "login = driver.find_element(By.XPATH,'//*[@id=\"recaptcha2\"]')\n",
    "login.click()\n",
    "try:\n",
    "   time.sleep(5)\n",
    "   webdriver.ActionChains(driver).send_keys(Keys.ESCAPE).perform()\n",
    "except:\n",
    "   pass\n",
    "time.sleep(5)"
   ]
  },
  {
   "cell_type": "markdown",
   "metadata": {},
   "source": [
    "## Access company name"
   ]
  },
  {
   "cell_type": "code",
   "execution_count": 9,
   "metadata": {},
   "outputs": [],
   "source": [
    "data=str()\n",
    "comp_search = []\n",
    "comp_num = []\n",
    "comp_name = []\n",
    "comp_type = []\n",
    "\n",
    "for i, comp in enumerate(comp_list[:50]):\n",
    "    search = driver.find_element(By.CLASS_NAME,'form-control')\n",
    "    search.send_keys(comp)\n",
    "    webdriver.ActionChains(driver).send_keys(Keys.ENTER).perform()\n",
    "    apply_random_wait(i)\n",
    "\n",
    "    data += driver.page_source\n",
    "    \n",
    "    # Company to validate\n",
    "    search_comp = comp\n",
    "    comp_search.append(search_comp)\n",
    "\n",
    "    # Company number\n",
    "    try:\n",
    "        num_comp = driver.find_element(By.CSS_SELECTOR, 'mat-cell.mat-cell.cdk-column-entityNumber.mat-column-entityNumber.ng-star-inserted').text.replace('Name\\n','')\n",
    "    except:\n",
    "        num_comp = \"No match\"\n",
    "    comp_num.append(num_comp)\n",
    "\n",
    "    # Company name \n",
    "    try:\n",
    "        name_comp = driver.find_element(By.CSS_SELECTOR, 'mat-cell.mat-cell.cdk-column-name.mat-column-name.ng-star-inserted').text.replace('Name\\n','')\n",
    "    except:\n",
    "        name_comp = \"No match\"\n",
    "    comp_name.append(name_comp)\n",
    "\n",
    "    # Company type\n",
    "    try:\n",
    "        type_comp = driver.find_element(By.CSS_SELECTOR, 'mat-cell.mat-cell.cdk-column-entityType.mat-column-entityType.ng-star-inserted').text.replace('Type\\n','') \n",
    "    except:\n",
    "        type_comp = \"No match\"\n",
    "    comp_type.append(type_comp)\n",
    "    apply_random_wait(i)\n",
    "\n",
    "    # Clear the search bar\n",
    "    search.clear()\n",
    "\n",
    "\n"
   ]
  },
  {
   "cell_type": "markdown",
   "metadata": {},
   "source": [
    "# Convert into dataframe "
   ]
  },
  {
   "cell_type": "code",
   "execution_count": 10,
   "metadata": {},
   "outputs": [
    {
     "data": {
      "text/plain": [
       "50"
      ]
     },
     "execution_count": 10,
     "metadata": {},
     "output_type": "execute_result"
    }
   ],
   "source": [
    "len(comp_name)"
   ]
  },
  {
   "cell_type": "code",
   "execution_count": 15,
   "metadata": {},
   "outputs": [
    {
     "data": {
      "text/plain": [
       "['No match',\n",
       " 'No match',\n",
       " 'No match',\n",
       " 'ABBOTTONIAN ENTERPRISE',\n",
       " 'ABBVIE SDN. BHD.',\n",
       " 'ABIO MARKETING SDN. BHD.',\n",
       " 'ADVANCE PHARMA SDN. BHD.',\n",
       " 'AEVANGUARD SDN. BHD.',\n",
       " 'AFT PHARMACEUTICALS (SE ASIA) SDN. BHD.',\n",
       " 'AIPHARMA HEALTHCARE SDN. BHD.',\n",
       " 'AJ RESEARCH & PHARMA SDN. BHD.',\n",
       " 'ALCON FASHION WIGS SDN BHD',\n",
       " 'No match',\n",
       " 'ALFA SIGMA ENTERPRISE',\n",
       " 'ALLIANCE PHARMACY',\n",
       " 'AMGEN SDN. BHD.',\n",
       " 'No match',\n",
       " 'ANTAH PHARMA SDN BHD',\n",
       " 'APEX INVESTMENTS LTD',\n",
       " 'APEX LABOUR AND SERVICES',\n",
       " 'AQURATE INGREDIENTS INTL (M) SDN. BHD.',\n",
       " 'ASPEN MASTER SDN. BHD.',\n",
       " 'ASTELLAS PHARMA MALAYSIA SDN. BHD.',\n",
       " 'ASTRAZENECA SDN. BHD.',\n",
       " 'No match',\n",
       " 'No match',\n",
       " 'AVERROES PHARMACEUTICALS SDN. BHD.',\n",
       " 'AVEX TECHNOLOGIES SDN. BHD.',\n",
       " 'AVO ELECTRIC & AIR-CON SDN.BHD.',\n",
       " 'BAXTER ENTERPRISE',\n",
       " 'BAYER PLASTICS SDN. BHD.',\n",
       " 'B-CROBES MARKETING (M) SDN. BHD.',\n",
       " 'BEIERSDORF (MALAYSIA) SDN. BHD.',\n",
       " 'No match',\n",
       " 'BEXIMCO HEALTHCARE MALAYSIA SDN. BHD.',\n",
       " 'No match',\n",
       " 'No match',\n",
       " 'No match',\n",
       " 'BIOCON CONSTRUCTION DEVELOPMENT SDN. BHD.',\n",
       " 'BIOLAB SDN.BHD.',\n",
       " 'No match',\n",
       " 'BIONUTRA SDN. BHD.',\n",
       " 'BIO-PHARMACEUTICALS SDN. BHD.',\n",
       " 'No match',\n",
       " 'BIOTROPICS CENTRE SDN. BHD.',\n",
       " 'BLACKMORES ENTERPRISE',\n",
       " 'No match',\n",
       " 'BOEHRINGER INGELHEIM (MALAYSIA) SDN BHD',\n",
       " 'BOTREM HEALTHCARE SDN. BHD.',\n",
       " 'BREGO LIFE SCIENCES SDN. BHD.']"
      ]
     },
     "execution_count": 15,
     "metadata": {},
     "output_type": "execute_result"
    }
   ],
   "source": [
    "comp_num"
   ]
  },
  {
   "cell_type": "code",
   "execution_count": null,
   "metadata": {},
   "outputs": [],
   "source": [
    "scrape_data = pd.DataFrame()\n",
    "\n",
    "scrape_data['Company Verification'] = comp_search\n",
    "scrape_data['Company Name']= comp_name\n",
    "scrape_data['Company Type'] = comp_type\n",
    "scrape_data"
   ]
  },
  {
   "cell_type": "markdown",
   "metadata": {},
   "source": [
    "## Example for one company (Selenium)"
   ]
  },
  {
   "cell_type": "code",
   "execution_count": null,
   "metadata": {},
   "outputs": [],
   "source": [
    "reg_num = driver.find_element(By.CSS_SELECTOR, 'mat-row mat-cell:first-child a.ng-star-inserted').text \n",
    "reg_num"
   ]
  },
  {
   "cell_type": "code",
   "execution_count": null,
   "metadata": {},
   "outputs": [],
   "source": [
    "name_comp = driver.find_element(By.CSS_SELECTOR, 'mat-cell.mat-cell.cdk-column-name.mat-column-name.ng-star-inserted').text.replace('Name\\n','')\n",
    "name_comp"
   ]
  },
  {
   "cell_type": "code",
   "execution_count": null,
   "metadata": {},
   "outputs": [],
   "source": [
    "type_comp = driver.find_element(By.CSS_SELECTOR, 'mat-cell.mat-cell.cdk-column-entityType.mat-column-entityType.ng-star-inserted').text.replace('Type\\n','')\n",
    "type_comp"
   ]
  },
  {
   "cell_type": "markdown",
   "metadata": {},
   "source": [
    "# BeautifulSoup (to process comp_num[Registration number])"
   ]
  },
  {
   "cell_type": "code",
   "execution_count": null,
   "metadata": {},
   "outputs": [],
   "source": [
    "soup = BeautifulSoup(data, 'html.parser')\n",
    "row_data = soup.find_all('mat-row','example-element-row')\n",
    "\n",
    "records = []\n",
    "for row in row_data:\n",
    "    #comp_search = company_name\n",
    "    try:\n",
    "        comp_num = row.find('a','ng-star-inserted').text.strip()\n",
    "    except: \n",
    "        comp_num = \"No match\"\n",
    "    \n",
    "    try:\n",
    "        comp_name = row.find('mat-cell','mat-cell cdk-column-name mat-column-name ng-star-inserted').text.strip().replace('Name','')\n",
    "    except:\n",
    "        comp_name = \"No match\"\n",
    "\n",
    "    try:\n",
    "        comp_type = row.find('mat-cell','mat-cell cdk-column-entityType mat-column-entityType ng-star-inserted').text.strip().replace('Type','')\n",
    "    except:\n",
    "        comp_type = \"No match\"\n",
    "\n",
    "    company_info = (comp_num, comp_name, comp_type) #, comp_name, comp_type\n",
    "\n",
    "    records.append(company_info)"
   ]
  },
  {
   "cell_type": "code",
   "execution_count": null,
   "metadata": {},
   "outputs": [],
   "source": [
    "records"
   ]
  },
  {
   "cell_type": "code",
   "execution_count": null,
   "metadata": {},
   "outputs": [],
   "source": [
    "comp_number = []\n",
    "j = 0\n",
    "for i in range(len(comp_name)):\n",
    "    if comp_name[i] == 'No match':\n",
    "        comp_number.append('No match')\n",
    "    else:\n",
    "        comp_number.append(records[j])\n",
    "        j += 1\n",
    "comp_number"
   ]
  },
  {
   "cell_type": "code",
   "execution_count": null,
   "metadata": {},
   "outputs": [],
   "source": [
    "len(comp_number), len(comp_name)"
   ]
  },
  {
   "cell_type": "code",
   "execution_count": null,
   "metadata": {},
   "outputs": [],
   "source": [
    "scrape_data = pd.DataFrame()\n",
    "#scrape_data['Company Verification'] = comp_search\n",
    "scrape_data['Registration Number'] = comp_number\n",
    "scrape_data['Company Name']= comp_name\n",
    "scrape_data['Company Type'] = comp_type\n",
    "scrape_data"
   ]
  },
  {
   "cell_type": "code",
   "execution_count": null,
   "metadata": {},
   "outputs": [],
   "source": [
    "# Read mydata_ssm.xlsx file\n",
    "#mydata_df = pd.read_excel('C:/Users/Acer/Downloads/reg_med_device_ssm.xlsx')\n",
    "\n",
    "# Concatenate 'scrape_data' dataframe with 'df'\n",
    "#mydata_df = pd.concat([mydata_df, scrape_data], ignore_index=True)\n",
    "\n",
    "# Write the updated dataframe back to 'reg_med_device_ssm.xlsx' mydata_df\n",
    "scrape_data.to_excel('C:/Users/Acer/Downloads/mims_ssm.xlsx', index=False)"
   ]
  },
  {
   "cell_type": "markdown",
   "metadata": {},
   "source": [
    "## Example for one row (BeautifulSoup)"
   ]
  },
  {
   "cell_type": "code",
   "execution_count": null,
   "metadata": {},
   "outputs": [],
   "source": [
    "row = row_data[0]\n",
    "row"
   ]
  },
  {
   "cell_type": "code",
   "execution_count": null,
   "metadata": {},
   "outputs": [],
   "source": [
    "comp_num = row.find('a','ng-star-inserted').text.strip()\n",
    "comp_num"
   ]
  },
  {
   "cell_type": "code",
   "execution_count": null,
   "metadata": {},
   "outputs": [],
   "source": [
    "comp_name = row.find('mat-cell','mat-cell cdk-column-name mat-column-name ng-star-inserted').text.strip().replace('Name', '')\n",
    "#comp_name = comp_name.replace('Name', '')\n",
    "comp_name"
   ]
  },
  {
   "cell_type": "code",
   "execution_count": null,
   "metadata": {},
   "outputs": [],
   "source": [
    "comp_type = row.find('mat-cell','mat-cell cdk-column-entityType mat-column-entityType ng-star-inserted').text.strip().replace('Type', '')\n",
    "#comp_type = comp_type.replace('Type', '')\n",
    "comp_type"
   ]
  }
 ],
 "metadata": {
  "kernelspec": {
   "display_name": "myvenv",
   "language": "python",
   "name": "python3"
  },
  "language_info": {
   "codemirror_mode": {
    "name": "ipython",
    "version": 3
   },
   "file_extension": ".py",
   "mimetype": "text/x-python",
   "name": "python",
   "nbconvert_exporter": "python",
   "pygments_lexer": "ipython3",
   "version": "3.9.13"
  }
 },
 "nbformat": 4,
 "nbformat_minor": 2
}
